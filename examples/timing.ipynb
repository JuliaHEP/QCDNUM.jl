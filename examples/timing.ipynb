{
 "cells": [
  {
   "cell_type": "markdown",
   "metadata": {},
   "source": [
    "## QCDNUM timing example\n",
    "\n",
    "Based on ``timing.f`` code detailed [here](https://www.nikhef.nl/~h24/qcdnum-files/testjobs1701/timing.f). "
   ]
  },
  {
   "cell_type": "code",
   "execution_count": 1,
   "metadata": {
    "ExecuteTime": {
     "end_time": "2021-01-07T17:02:09.349000+01:00",
     "start_time": "2021-01-07T16:02:08.703Z"
    }
   },
   "outputs": [],
   "source": [
    "using Printf\n",
    "include(\"../QCDNUM.jl\")\n",
    "using .QCDNUM"
   ]
  },
  {
   "cell_type": "code",
   "execution_count": 2,
   "metadata": {
    "ExecuteTime": {
     "end_time": "2021-01-07T17:02:22.369000+01:00",
     "start_time": "2021-01-07T16:02:21.941Z"
    }
   },
   "outputs": [
    {
     "data": {
      "text/plain": [
       "999"
      ]
     },
     "execution_count": 2,
     "metadata": {},
     "output_type": "execute_result"
    }
   ],
   "source": [
    "xmin = Float64.([1e-5, 0.2, 0.4, 0.6, 0.75])\n",
    "iwt = Int32.([1, 2, 4, 8, 16])\n",
    "ngx = 5\n",
    "nxin = 100\n",
    "iosp = 3\n",
    "nx = 0\n",
    "qlim = Float64.([2e0, 1e4])\n",
    "wt = Float64.([1e0, 1e0])\n",
    "ngq = 2\n",
    "nqin = 50\n",
    "nq = 1\n",
    "itype = 1\n",
    "filename = \"weights/unpolarised.wgt\"\n",
    "iord = 3\n",
    "as0 = 0.364\n",
    "r20 = 2.0\n",
    "q2c = 3.0\n",
    "q2b = 25.0\n",
    "q0 = 2.0\n",
    "nfin = 0\n",
    "iqt = 999"
   ]
  },
  {
   "cell_type": "code",
   "execution_count": 3,
   "metadata": {
    "ExecuteTime": {
     "end_time": "2021-01-07T17:02:32.627000+01:00",
     "start_time": "2021-01-07T16:02:32.623Z"
    }
   },
   "outputs": [],
   "source": [
    "def = Float64.([0., 0., 0., 0., 0.,-1., 0., 1., 0., 0., 0., 0., 0.,      \n",
    "      0., 0., 0., 0.,-1., 0., 0., 0., 1., 0., 0., 0., 0.,      \n",
    "      0., 0., 0.,-1., 0., 0., 0., 0., 0., 1., 0., 0., 0.,      \n",
    "      0., 0., 0., 0., 0., 1., 0., 0., 0., 0., 0., 0., 0.,      \n",
    "      0., 0., 0., 0., 1., 0., 0., 0., 0., 0., 0., 0., 0.,      \n",
    "      0., 0., 0., 1., 0., 0., 0., 0., 0., 0., 0., 0., 0.,      \n",
    "      0., 0.,-1., 0., 0., 0., 0., 0., 0., 0., 1., 0., 0.,      \n",
    "      0., 0., 1., 0., 0., 0., 0., 0., 0., 0., 0., 0., 0.,      \n",
    "      0., 0., 0., 0., 0., 0., 0., 0., 0., 0., 0., 0., 0.,      \n",
    "      0., 0., 0., 0., 0., 0., 0., 0., 0., 0., 0., 0., 0.,      \n",
    "      0., 0., 0., 0., 0., 0., 0., 0., 0., 0., 0., 0., 0.,      \n",
    "      0., 0., 0., 0., 0., 0., 0., 0., 0., 0., 0., 0., 0.]);"
   ]
  },
  {
   "cell_type": "code",
   "execution_count": 4,
   "metadata": {
    "ExecuteTime": {
     "end_time": "2021-01-07T17:02:47.669000+01:00",
     "start_time": "2021-01-07T16:02:47.421Z"
    },
    "code_folding": [
     0
    ]
   },
   "outputs": [
    {
     "data": {
      "text/plain": [
       "Ptr{Nothing} @0x0000000115938d10"
      ]
     },
     "execution_count": 4,
     "metadata": {},
     "output_type": "execute_result"
    }
   ],
   "source": [
    "function func(ipdf, x)::Float64\n",
    "    i = ipdf[]\n",
    "    xb = x[]\n",
    "    adbar = 0.1939875\n",
    "    f = 0\n",
    "    if (i == 0) \n",
    "        ag = 1.7\n",
    "        f = ag * xb^-0.1 * (1.0-xb)^5.0\n",
    "    end\n",
    "    if (i == 1)\n",
    "        ad = 3.064320\n",
    "        f = ad * xb^0.8 * (1.0-xb)^4.0\n",
    "    end\n",
    "    if (i == 2)\n",
    "        au = 5.107200\n",
    "        f = au * xb^0.8 * (1.0-xb)^3.0\n",
    "    end\n",
    "    if (i == 3) \n",
    "        f = 0.0\n",
    "    end\n",
    "    if (i == 4)\n",
    "        f = adbar * xb^-0.1 * (1.0-xb)^6.0\n",
    "    end\n",
    "    if (i == 5) \n",
    "        f = adbar * xb^-0.1 * (1.0-xb)^6.0 * (1.0-xb)\n",
    "    end\n",
    "    if (i == 6)\n",
    "        xdbar = adbar * xb^-0.1 * (1.0-xb)^6.0\n",
    "        xubar = adbar * xb^-0.1 * (1.0-xb)^6.0 * (1.0-xb)\n",
    "        f = 0.2 * (xdbar + xubar)\n",
    "    end\n",
    "    if (i == 7)\n",
    "        f = 0.0\n",
    "    end\n",
    "    if (i == 8)\n",
    "        f = 0.0\n",
    "    end\n",
    "    if (i == 9)\n",
    "        f = 0.0\n",
    "    end\n",
    "    if (i == 10)\n",
    "        f = 0.0\n",
    "    end\n",
    "    if (i == 11)\n",
    "        f = 0.0\n",
    "    end\n",
    "    if (i == 12)\n",
    "        f = 0.0\n",
    "    end\n",
    "    return f\n",
    "end\n",
    "\n",
    "func_c = @cfunction(func, Float64, (Ref{Int32}, Ref{Float64}))"
   ]
  },
  {
   "cell_type": "code",
   "execution_count": 5,
   "metadata": {
    "ExecuteTime": {
     "end_time": "2021-01-07T17:02:58.392000+01:00",
     "start_time": "2021-01-07T16:02:58.304Z"
    }
   },
   "outputs": [],
   "source": [
    "proton = Float64.([4.,1.,4.,1.,4.,1.,0.,1.,4.,1.,4.,1.,4.])/9.0;\n",
    "xx = Array{Float64}(undef, 1000)\n",
    "q2 = Array{Float64}(undef, 1000)\n",
    "\n",
    "roots = 300\n",
    "shera = roots*roots\n",
    "xlog1 = log(xmin[1])\n",
    "xlog2 = log(0.99)\n",
    "qlog1 = log(qlim[1])\n",
    "qlog2 = log(qlim[ngq])\n",
    "ntot = 1\n",
    "while (ntot < 1001)\n",
    "    rval = rand()\n",
    "    xlog = xlog1 + rval*(xlog2-xlog1)\n",
    "    xxxx = exp(xlog)\n",
    "    rval = rand()\n",
    "    qlog = qlog1 + rval*(qlog2-qlog1)\n",
    "    qqqq = exp(qlog)\n",
    "    if (qqqq <= xxxx*shera)\n",
    "        xx[ntot] = xxxx\n",
    "        q2[ntot] = qqqq\n",
    "        ntot += 1\n",
    "    end\n",
    "end"
   ]
  },
  {
   "cell_type": "code",
   "execution_count": 7,
   "metadata": {
    "ExecuteTime": {
     "end_time": "2021-01-07T17:03:21.636000+01:00",
     "start_time": "2021-01-07T16:03:12.610Z"
    }
   },
   "outputs": [
    {
     "name": "stdout",
     "output_type": "stream",
     "text": [
      "  +---------------------------------------------------------------------+   \n",
      "  |                                                                     |   \n",
      "  |    If you use QCDNUM, please refer to:                              |   \n",
      "  |                                                                     |   \n",
      "  |    M. Botje, Comput. Phys. Commun. 182(2011)490, arXiV:1005.1481    |   \n",
      "  |                                                                     |   \n",
      "  +---------------------------------------------------------------------+   \n",
      "  \n",
      "\n",
      " FILLWT: start unpolarised weight calculations\n",
      " Subgrids    5 Subgrid points   22   20   18   16   60\n",
      " Pij LO\n",
      " Pij NLO\n",
      " Pij NNLO\n",
      " Aij LO\n",
      " Aij NLO\n",
      " Aij NNLO\n",
      " FILLWT: weight calculations completed\n",
      "\n",
      "\n",
      " ZMFILLW: start weight calculations   4  38   0   0\n",
      " ZMFILLW: calculations completed\n",
      "  \n",
      "  \n",
      "  \n",
      " Wait: 1000 evols and 2.10^6 stfs will take ...   5.841785 seconds (26.70 k allocations: 16.655 MiB)\n"
     ]
    }
   ],
   "source": [
    "QCDNUM.qcinit(-6, \" \")\n",
    "nx = QCDNUM.gxmake(xmin, iwt, ngx, nxin, iosp)\n",
    "nq = QCDNUM.gqmake(qlim, wt, ngq, nqin)\n",
    "#QCDNUM.wtfile(itype, filename)\n",
    "nw = QCDNUM.fillwt(1)\n",
    "nw = QCDNUM.zmfillw()\n",
    "QCDNUM.setord(iord)\n",
    "QCDNUM.setalf(as0, r20)\n",
    "iqc = QCDNUM.iqfrmq(q2c)\n",
    "iqb = QCDNUM.iqfrmq(q2b)\n",
    "QCDNUM.setcbt(nfin, iqc, iqb, iqt)\n",
    "iq0 = QCDNUM.iqfrmq(q0)\n",
    "\n",
    "@printf(\" Wait: 1000 evols and 2.10^6 stfs will take ... \")\n",
    "@time begin\n",
    "    for iter in 1:1000\n",
    "        eps = QCDNUM.evolfg(itype, func_c, def, iq0)\n",
    "        ff = QCDNUM.zmstfun(1, proton, xx, q2, 1000, 1)\n",
    "        ff = QCDNUM.zmstfun(2, proton, xx, q2, 1000, 1)\n",
    "    end\n",
    "end"
   ]
  },
  {
   "cell_type": "code",
   "execution_count": null,
   "metadata": {},
   "outputs": [],
   "source": []
  }
 ],
 "metadata": {
  "kernelspec": {
   "display_name": "Julia 1.5.1",
   "language": "julia",
   "name": "julia-1.5"
  },
  "language_info": {
   "file_extension": ".jl",
   "mimetype": "application/julia",
   "name": "julia",
   "version": "1.5.1"
  }
 },
 "nbformat": 4,
 "nbformat_minor": 4
}
