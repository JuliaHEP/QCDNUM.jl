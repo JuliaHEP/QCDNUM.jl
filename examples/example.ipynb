{
 "cells": [
  {
   "cell_type": "markdown",
   "metadata": {},
   "source": [
    "## QCDNUM example program\n",
    "\n",
    "Based on ``example.f`` detailed [here](https://www.nikhef.nl/~h24/qcdnum-files/testjobs1701/example.f)."
   ]
  },
  {
   "cell_type": "code",
   "execution_count": 1,
   "metadata": {
    "ExecuteTime": {
     "end_time": "2021-01-26T19:36:36.461000+01:00",
     "start_time": "2021-01-26T18:36:30.276Z"
    }
   },
   "outputs": [
    {
     "name": "stderr",
     "output_type": "stream",
     "text": [
      "┌ Info: Precompiling QCDNUM [4acc4d78-9ad5-435b-99b1-7af0628e6e5b]\n",
      "└ @ Base loading.jl:1278\n"
     ]
    }
   ],
   "source": [
    "using QCDNUM\n",
    "using Printf"
   ]
  },
  {
   "cell_type": "code",
   "execution_count": 2,
   "metadata": {
    "ExecuteTime": {
     "end_time": "2021-01-26T19:36:36.598000+01:00",
     "start_time": "2021-01-26T18:36:35.006Z"
    }
   },
   "outputs": [],
   "source": [
    "xmin = Float64.([1.0e-4])\n",
    "iwt = Int32.([1])\n",
    "ng = 1\n",
    "nxin = 100\n",
    "iosp = 3\n",
    "nx = 10\n",
    "\n",
    "qq = Float64.([2e0, 1e4])\n",
    "wt = Float64.([1e0, 1e0])\n",
    "nq = 1\n",
    "nqin = 60\n",
    "ngq = 2\n",
    "itype = 1\n",
    "\n",
    "as0 = 0.364\n",
    "r20 = 2.0\n",
    "\n",
    "q2c = 3.0\n",
    "q2b = 25.0\n",
    "q0 = 2.0\n",
    "iqt = 999\n",
    "\n",
    "def = Float64.([0., 0., 0., 0., 0.,-1., 0., 1., 0., 0., 0., 0., 0.,     \n",
    "      0., 0., 0., 0.,-1., 0., 0., 0., 1., 0., 0., 0., 0.,      \n",
    "      0., 0., 0.,-1., 0., 0., 0., 0., 0., 1., 0., 0., 0.,      \n",
    "      0., 0., 0., 0., 0., 1., 0., 0., 0., 0., 0., 0., 0.,      \n",
    "      0., 0., 0., 0., 1., 0., 0., 0., 0., 0., 0., 0., 0.,      \n",
    "      0., 0., 0., 1., 0., 0., 0., 0., 0., 0., 0., 0., 0.,      \n",
    "      0., 0.,-1., 0., 0., 0., 0., 0., 0., 0., 1., 0., 0.,      \n",
    "      0., 0., 1., 0., 0., 0., 0., 0., 0., 0., 0., 0., 0.,      \n",
    "      0., 0., 0., 0., 0., 0., 0., 0., 0., 0., 0., 0., 0.,      \n",
    "      0., 0., 0., 0., 0., 0., 0., 0., 0., 0., 0., 0., 0.,      \n",
    "      0., 0., 0., 0., 0., 0., 0., 0., 0., 0., 0., 0., 0.,      \n",
    "      0., 0., 0., 0., 0., 0., 0., 0., 0., 0., 0., 0., 0.]);\n",
    "\n",
    "nfin = 0\n",
    "x = 1.0e-3\n",
    "q = 1.0e3\n",
    "pdf = Array{Float64}(undef, 13)\n",
    "qmz2 = 8315.25;"
   ]
  },
  {
   "cell_type": "code",
   "execution_count": 3,
   "metadata": {
    "ExecuteTime": {
     "end_time": "2021-01-26T19:36:37.030000+01:00",
     "start_time": "2021-01-26T18:36:36.547Z"
    },
    "code_folding": [
     0
    ]
   },
   "outputs": [
    {
     "data": {
      "text/plain": [
       "Ptr{Nothing} @0x000000010f2b9800"
      ]
     },
     "execution_count": 3,
     "metadata": {},
     "output_type": "execute_result"
    }
   ],
   "source": [
    "function func(ipdf, x)::Float64\n",
    "    i = ipdf[]\n",
    "    xb = x[]\n",
    "    adbar = 0.1939875\n",
    "    f = 0\n",
    "    if (i == 0) \n",
    "        ag = 1.7\n",
    "        f = ag * xb^-0.1 * (1.0-xb)^5.0\n",
    "    end\n",
    "    if (i == 1)\n",
    "        ad = 3.064320\n",
    "        f = ad * xb^0.8 * (1.0-xb)^4.0\n",
    "    end\n",
    "    if (i == 2)\n",
    "        au = 5.107200\n",
    "        f = au * xb^0.8 * (1.0-xb)^3.0\n",
    "    end\n",
    "    if (i == 3) \n",
    "        f = 0.0\n",
    "    end\n",
    "    if (i == 4)\n",
    "        f = adbar * xb^-0.1 * (1.0-xb)^6.0\n",
    "    end\n",
    "    if (i == 5) \n",
    "        f = adbar * xb^-0.1 * (1.0-xb)^6.0 * (1.0-xb)\n",
    "    end\n",
    "    if (i == 6)\n",
    "        xdbar = adbar * xb^-0.1 * (1.0-xb)^6.0\n",
    "        xubar = adbar * xb^-0.1 * (1.0-xb)^6.0 * (1.0-xb)\n",
    "        f = 0.2 * (xdbar + xubar)\n",
    "    end\n",
    "    if (i == 7)\n",
    "        f = 0.0\n",
    "    end\n",
    "    if (i == 8)\n",
    "        f = 0.0\n",
    "    end\n",
    "    if (i == 9)\n",
    "        f = 0.0\n",
    "    end\n",
    "    if (i == 10)\n",
    "        f = 0.0\n",
    "    end\n",
    "    if (i == 11)\n",
    "        f = 0.0\n",
    "    end\n",
    "    if (i == 12)\n",
    "        f = 0.0\n",
    "    end\n",
    "    return f\n",
    "end\n",
    "\n",
    "func_c = @cfunction(func, Float64, (Ref{Int32}, Ref{Float64}))"
   ]
  },
  {
   "cell_type": "code",
   "execution_count": 4,
   "metadata": {
    "ExecuteTime": {
     "end_time": "2021-01-26T19:36:38.764000+01:00",
     "start_time": "2021-01-26T18:36:37.128Z"
    }
   },
   "outputs": [
    {
     "name": "stdout",
     "output_type": "stream",
     "text": [
      "  +---------------------------------------------------------------------+   \n",
      "  |                                                                     |   \n",
      "  |    If you use QCDNUM, please refer to:                              |   \n",
      "  |                                                                     |   \n",
      "  |    M. Botje, Comput. Phys. Commun. 182(2011)490, arXiV:1005.1481    |   \n",
      "  |                                                                     |   \n",
      "  +---------------------------------------------------------------------+   \n",
      "  \n",
      "\n",
      " FILLWT: start unpolarised weight calculations\n",
      " Subgrids    1 Subgrid points  100\n",
      " Pij LO\n",
      " Pij NLO\n",
      " Pij NNLO\n",
      " Aij LO\n",
      " Aij NLO\n",
      " Aij NNLO\n",
      " FILLWT: weight calculations completed\n",
      "\n",
      "  \n",
      "  \n",
      "  \n"
     ]
    }
   ],
   "source": [
    "QCDNUM.qcinit(-6, \" \")\n",
    "nx = QCDNUM.gxmake(xmin, iwt, ng, nxin, iosp)\n",
    "nq = QCDNUM.gqmake(qq, wt, ngq, nqin)\n",
    "nw = QCDNUM.fillwt(itype)\n",
    "#QCDNUM.wtfile(1, \"weights/unpolarised.wgt\")\n",
    "QCDNUM.setord(3)\n",
    "QCDNUM.setalf(as0, r20)\n",
    "iqc = QCDNUM.iqfrmq(q2c)\n",
    "iqb = QCDNUM.iqfrmq(q2b)\n",
    "iqt = QCDNUM.iqfrmq(1e11)\n",
    "QCDNUM.setcbt(0, iqc, iqb, 0)\n",
    "iq0 = QCDNUM.iqfrmq(q0)\n",
    "eps = QCDNUM.evolfg(itype, func_c, def, iq0)\n",
    "pdf = QCDNUM.allfxq(itype, x, q, 0, 1)\n",
    "asmz, a, b = QCDNUM.asfunc(qmz2)\n",
    "csea = 2*pdf[3];"
   ]
  },
  {
   "cell_type": "code",
   "execution_count": 5,
   "metadata": {
    "ExecuteTime": {
     "end_time": "2021-01-26T19:36:39.552000+01:00",
     "start_time": "2021-01-26T18:36:39.366Z"
    }
   },
   "outputs": [
    {
     "name": "stdout",
     "output_type": "stream",
     "text": [
      "x, q, CharmSea = 1.0000e-03, 1.0000e+03, 1.8708e+00\n",
      "as(mz2) = 1.1807e-01"
     ]
    }
   ],
   "source": [
    "@printf(\"x, q, CharmSea = %0.4e, %0.4e, %0.4e\\n\", x, q, csea)\n",
    "@printf(\"as(mz2) = %0.4e\", asmz)"
   ]
  },
  {
   "cell_type": "code",
   "execution_count": null,
   "metadata": {},
   "outputs": [],
   "source": []
  }
 ],
 "metadata": {
  "kernelspec": {
   "display_name": "Julia 1.5.1",
   "language": "julia",
   "name": "julia-1.5"
  },
  "language_info": {
   "file_extension": ".jl",
   "mimetype": "application/julia",
   "name": "julia",
   "version": "1.5.1"
  }
 },
 "nbformat": 4,
 "nbformat_minor": 4
}
