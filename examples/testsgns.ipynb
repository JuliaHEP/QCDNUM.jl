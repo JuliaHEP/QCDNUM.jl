{
 "cells": [
  {
   "cell_type": "markdown",
   "metadata": {},
   "source": [
    "# Test QCDNUM evolution options\n",
    "\n",
    "We can use `evolfg` to evolve the pdf set for all flavours, or `evsgns` to evolve an arbitrary set of singlet/non-singlet pdfs. The latter may offer potential for external parallelisation, but first we must verify that we can use it to recreate expected results.\n",
    "\n",
    "We do this the recreating the `example.f` demo using `evsgns`."
   ]
  },
  {
   "cell_type": "code",
   "execution_count": 1,
   "metadata": {
    "ExecuteTime": {
     "end_time": "2021-01-26T13:13:47.054000+01:00",
     "start_time": "2021-01-26T12:13:46.317Z"
    }
   },
   "outputs": [],
   "source": [
    "using Printf\n",
    "\n",
    "include(\"../QCDNUM.jl\")\n",
    "using .QCDNUM"
   ]
  },
  {
   "cell_type": "markdown",
   "metadata": {},
   "source": [
    "## Define inputs"
   ]
  },
  {
   "cell_type": "code",
   "execution_count": 44,
   "metadata": {
    "ExecuteTime": {
     "end_time": "2021-01-26T13:46:21.567000+01:00",
     "start_time": "2021-01-26T12:46:21.559Z"
    }
   },
   "outputs": [],
   "source": [
    "xmin = Float64.([1.0e-5, 0.2, 0.4, 0.6, 0.75])\n",
    "iwt = Int32.([1, 2, 4, 8, 16])\n",
    "nxsubg = 5\n",
    "nxin = 100\n",
    "iosp = 3\n",
    "\n",
    "qq = Float64.([2e0, 1e4])\n",
    "wt = Float64.([1e0, 1e0])\n",
    "nqin = 60\n",
    "itype = 1\n",
    "as0 = 0.364\n",
    "r20 = 2.0\n",
    "\n",
    "q2c = 3.0\n",
    "q2b = 25.0\n",
    "q2t = 1e11\n",
    "q0 = 2.0\n",
    "\n",
    "def = Float64.([0., 0., 0., 0., 0.,-1., 0., 1., 0., 0., 0., 0., 0.,   \n",
    "                0., 0., 0., 0.,-1., 0., 0., 0., 1., 0., 0., 0., 0.,   \n",
    "                0., 0., 0.,-1., 0., 0., 0., 0., 0., 1., 0., 0., 0.,   \n",
    "                0., 0., 0., 0., 0., 1., 0., 0., 0., 0., 0., 0., 0.,   \n",
    "                0., 0., 0., 0., 1., 0., 0., 0., 0., 0., 0., 0., 0.,   \n",
    "                0., 0., 0., 1., 0., 0., 0., 0., 0., 0., 0., 0., 0.,   \n",
    "                0., 0.,-1., 0., 0., 0., 0., 0., 0., 0., 1., 0., 0.,   \n",
    "                0., 0., 1., 0., 0., 0., 0., 0., 0., 0., 0., 0., 0.,   \n",
    "                0.,-1., 0., 0., 0., 0., 0., 0., 0., 0., 0., 1., 0.,   \n",
    "                0., 1., 0., 0., 0., 0., 0., 0., 0., 0., 0., 0., 0.,   \n",
    "                -1., 0., 0., 0., 0., 0., 0., 0., 0., 0., 0., 0., 1.,   \n",
    "                1., 0., 0., 0., 0., 0., 0., 0., 0., 0., 0., 0., 0. ])\n",
    "\n",
    "isns =  Int32.([1,  2,  2,  2,  2,  2, -1, -2, -2, -2, -2, -2])\n",
    "\n",
    "nfix = 6\n",
    "aar = 1.0\n",
    "bbr = 0.0;"
   ]
  },
  {
   "cell_type": "code",
   "execution_count": 45,
   "metadata": {
    "ExecuteTime": {
     "end_time": "2021-01-26T13:46:25.973000+01:00",
     "start_time": "2021-01-26T12:46:25.927Z"
    },
    "code_folding": [
     0
    ]
   },
   "outputs": [],
   "source": [
    "function func1(ipdf, x)::Float64\n",
    "    i = ipdf[]\n",
    "    xb = x[]\n",
    "    adbar = 0.1939875\n",
    "    f = 0\n",
    "    if (i == 0) \n",
    "        ag = 1.7\n",
    "        f = ag * xb^-0.1 * (1.0-xb)^5.0\n",
    "    end\n",
    "    if (i == 1)\n",
    "        ad = 3.064320\n",
    "        f = ad * xb^0.8 * (1.0-xb)^4.0\n",
    "    end\n",
    "    if (i == 2)\n",
    "        au = 5.107200\n",
    "        f = au * xb^0.8 * (1.0-xb)^3.0\n",
    "    end\n",
    "    if (i == 3) \n",
    "        f = 0.0\n",
    "    end\n",
    "    if (i == 4)\n",
    "        f = adbar * xb^-0.1 * (1.0-xb)^6.0\n",
    "    end\n",
    "    if (i == 5) \n",
    "        f = adbar * xb^-0.1 * (1.0-xb)^6.0 * (1.0-xb)\n",
    "    end\n",
    "    if (i == 6)\n",
    "        xdbar = adbar * xb^-0.1 * (1.0-xb)^6.0\n",
    "        xubar = adbar * xb^-0.1 * (1.0-xb)^6.0 * (1.0-xb)\n",
    "        f = 0.2 * (xdbar + xubar)\n",
    "    end\n",
    "    if (i == 7)\n",
    "        f = 0.0\n",
    "    end\n",
    "    if (i == 8)\n",
    "        xdbar = adbar * xb^-0.1 * (1.0-xb)^6.0\n",
    "        xubar = adbar * xb^-0.1 * (1.0-xb)^6.0 * (1.0-xb)\n",
    "        f = 0.2 * (xdbar + xubar)\n",
    "    end\n",
    "    if (i == 9)\n",
    "        f = 0.0\n",
    "    end\n",
    "    if (i == 10)\n",
    "        xdbar = adbar * xb^-0.1 * (1.0-xb)^6.0\n",
    "        xubar = adbar * xb^-0.1 * (1.0-xb)^6.0 * (1.0-xb)\n",
    "        f = 0.2 * (xdbar + xubar)\n",
    "    end\n",
    "    if (i == 11)\n",
    "        f = 0.0\n",
    "    end\n",
    "    if (i == 12)\n",
    "        xdbar = adbar * xb^-0.1 * (1.0-xb)^6.0\n",
    "        xubar = adbar * xb^-0.1 * (1.0-xb)^6.0 * (1.0-xb)\n",
    "        f = 0.2 * (xdbar + xubar)\n",
    "    end\n",
    "    return f\n",
    "end\n",
    "\n",
    "func1_c = @cfunction(func1, Float64, (Ref{Int32}, Ref{Float64}));"
   ]
  },
  {
   "cell_type": "code",
   "execution_count": 46,
   "metadata": {
    "ExecuteTime": {
     "end_time": "2021-01-26T13:46:29.306000+01:00",
     "start_time": "2021-01-26T12:46:29.280Z"
    }
   },
   "outputs": [],
   "source": [
    "function func2(ipdf, x)::Float64\n",
    "    i = ipdf[]\n",
    "    xb = x[]\n",
    "    \n",
    "    f = 0.0\n",
    "    \n",
    "    if (i == -1)\n",
    "        iset = Int(QCDNUM.qstore(\"read\", 1))\n",
    "        iq0 = Int(QCDNUM.qstore(\"read\", 2))\n",
    "    else\n",
    "        iset = Int(QCDNUM.qstore(\"read\", 1))\n",
    "        iq0 = Int(QCDNUM.qstore(\"read\", 2))\n",
    "        ix = QCDNUM.ixfrmx(xb)\n",
    "        f = QCDNUM.bvalij(iset, i, ix, iq0, 1)\n",
    "    end\n",
    "    \n",
    "    return f\n",
    "end\n",
    "\n",
    "func2_c = @cfunction(func2, Float64, (Ref{Int32}, Ref{Float64}));"
   ]
  },
  {
   "cell_type": "markdown",
   "metadata": {},
   "source": [
    "## Run QCDNUM"
   ]
  },
  {
   "cell_type": "code",
   "execution_count": 41,
   "metadata": {
    "ExecuteTime": {
     "end_time": "2021-01-26T13:43:22.922000+01:00",
     "start_time": "2021-01-26T12:43:20.211Z"
    }
   },
   "outputs": [
    {
     "name": "stdout",
     "output_type": "stream",
     "text": [
      "  +---------------------------------------------------------------------+   \n",
      "  |                                                                     |   \n",
      "  |    If you use QCDNUM, please refer to:                              |   \n",
      "  |                                                                     |   \n",
      "  |    M. Botje, Comput. Phys. Commun. 182(2011)490, arXiV:1005.1481    |   \n",
      "  |                                                                     |   \n",
      "  +---------------------------------------------------------------------+   \n",
      "  \n",
      "\n",
      " FILLWT: start unpolarised weight calculations\n",
      " Subgrids    5 Subgrid points   22   20   18   16   60\n",
      " Pij LO\n",
      " Pij NLO\n",
      " Pij NNLO\n",
      " Aij LO\n",
      " Aij NLO\n",
      " Aij NNLO\n",
      " FILLWT: weight calculations completed\n",
      "\n",
      "  \n",
      "  \n",
      "  \n",
      "xmin = 1.00e-05, \t subgrids = 5\n",
      "qmin = 2.00e+00, \t qmax = 1.00e+04\n",
      "nfix = 6, \t\t q2c, b, t = 3.00e+00, 2.50e+01, 1.00e+11\n",
      "alpha = 3.64e-01, \t r20 = 2.00e+00\n",
      "aar = 1.00e+00, \t bbr = 0.00e+00\n",
      "q20 = 2.00e+00\n"
     ]
    }
   ],
   "source": [
    "QCDNUM.qcinit(-6, \" \")\n",
    "nx = QCDNUM.gxmake(xmin, iwt, nxsubg, nxin, iosp) # make x grid\n",
    "nq = QCDNUM.gqmake(qq, wt, 2, nqin) # make qq grid\n",
    "nw = QCDNUM.fillwt(itype) # fill weight tables\n",
    "QCDNUM.setord(3) # NLO in pQCD\n",
    "QCDNUM.setalf(as0, r20) # alpha and scale\n",
    "iqc = QCDNUM.iqfrmq(q2c) \n",
    "iqb = QCDNUM.iqfrmq(q2b)\n",
    "iqt = QCDNUM.iqfrmq(q2t)\n",
    "QCDNUM.setcbt(nfix, iqc, iqb, iqt) # FFNS and thresholds\n",
    "QCDNUM.setabr(aar, bbr) # Relationship between mu_F^2 and mu_R^2\n",
    "iq0 = QCDNUM.iqfrmq(q0)\n",
    "\n",
    "# Print summary\n",
    "@printf(\"xmin = %0.2e, \\t subgrids = %i\\n\", xmin[1], nxsubg)\n",
    "@printf(\"qmin = %0.2e, \\t qmax = %0.2e\\n\", qq[1], qq[2])\n",
    "@printf(\"nfix = %i, \\t\\t q2c, b, t = %0.2e, %0.2e, %0.2e\\n\", nfix, q2c, q2b, q2t)\n",
    "@printf(\"alpha = %0.2e, \\t r20 = %0.2e\\n\", as0, r20)\n",
    "@printf(\"aar = %0.2e, \\t bbr = %0.2e\\n\", aar, bbr)\n",
    "@printf(\"q20 = %0.2e\\n\", q0)\n",
    "\n",
    "# EVOLFG\n",
    "iset1 = 1                                       \n",
    "jtype = 10*iset1+itype\n",
    "eps = QCDNUM.evolfg(jtype, func1_c, def, iq0)\n",
    "QCDNUM.qstore(\"write\", 1, float(iset1))\n",
    "QCDNUM.qstore(\"write\", 2, float(iq0))\n",
    "\n",
    "# EVSGNS\n",
    "iset2 = 2\n",
    "jtype = 10*iset2+itype\n",
    "QCDNUM.setint(\"edbg\", 0) # turn off debug\n",
    "eps = QCDNUM.evsgns(jtype, func2_c, isns, 12, iq0);"
   ]
  },
  {
   "cell_type": "markdown",
   "metadata": {},
   "source": [
    "## Compare evolfg and evsgns"
   ]
  },
  {
   "cell_type": "code",
   "execution_count": 49,
   "metadata": {
    "ExecuteTime": {
     "end_time": "2021-01-26T13:48:09.853000+01:00",
     "start_time": "2021-01-26T12:48:09.845Z"
    }
   },
   "outputs": [
    {
     "data": {
      "text/plain": [
       "compare (generic function with 1 method)"
      ]
     },
     "execution_count": 49,
     "metadata": {},
     "output_type": "execute_result"
    }
   ],
   "source": [
    "function compare(jset1, jset2, id, jq, ixmin)\n",
    "\n",
    "    nx, xmi, xma, nq, qmi, qma, iord = QCDNUM.grpars()\n",
    "    \n",
    "    if (jq == 0)\n",
    "        iq1 = 1\n",
    "        iq2 = nq\n",
    "        jxmin = 0\n",
    "    else\n",
    "        iq1 = jq\n",
    "        iq2 = jq\n",
    "        jxmin = ixmin\n",
    "    end\n",
    "    \n",
    "    dif = 0.0\n",
    "    for iq in [iq1, iq2]\n",
    "        for ix in 1:nx\n",
    "            val1 = QCDNUM.bvalij(jset1, id, ix, iq, 1)\n",
    "            val2 = QCDNUM.bvalij(jset2, id, ix, iq, 1)\n",
    "            difi = val1-val2\n",
    "            dif = max(difi, abs(difi))\n",
    "            if (ix < jxmin)\n",
    "                println(\"(2I3,2F10.4,E13.3,2X,3I3)\")\n",
    "            end\n",
    "        end\n",
    "    end\n",
    "        \n",
    "    if (jxmin == 0)\n",
    "        @printf(\"id = %i, \\t dif = %0.5e\\n\", id, dif)\n",
    "    end\n",
    "    \n",
    "end"
   ]
  },
  {
   "cell_type": "code",
   "execution_count": 50,
   "metadata": {
    "ExecuteTime": {
     "end_time": "2021-01-26T13:48:10.683000+01:00",
     "start_time": "2021-01-26T12:48:10.638Z"
    }
   },
   "outputs": [
    {
     "name": "stdout",
     "output_type": "stream",
     "text": [
      "id = 0, \t dif = 0.00000e+00\n",
      "id = 1, \t dif = 0.00000e+00\n",
      "id = 2, \t dif = 0.00000e+00\n",
      "id = 3, \t dif = 0.00000e+00\n",
      "id = 4, \t dif = 0.00000e+00\n",
      "id = 5, \t dif = 0.00000e+00\n",
      "id = 6, \t dif = 0.00000e+00\n",
      "id = 7, \t dif = 0.00000e+00\n",
      "id = 8, \t dif = 0.00000e+00\n",
      "id = 9, \t dif = 0.00000e+00\n",
      "id = 10, \t dif = 0.00000e+00\n",
      "id = 11, \t dif = 0.00000e+00\n",
      "id = 12, \t dif = 0.00000e+00\n"
     ]
    }
   ],
   "source": [
    "for id in 0:12\n",
    "    compare(iset1, iset2, id, 0, 1)\n",
    "end"
   ]
  },
  {
   "cell_type": "code",
   "execution_count": null,
   "metadata": {},
   "outputs": [],
   "source": []
  }
 ],
 "metadata": {
  "kernelspec": {
   "display_name": "Julia 1.5.1",
   "language": "julia",
   "name": "julia-1.5"
  },
  "language_info": {
   "file_extension": ".jl",
   "mimetype": "application/julia",
   "name": "julia",
   "version": "1.5.1"
  }
 },
 "nbformat": 4,
 "nbformat_minor": 4
}
